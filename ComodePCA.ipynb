{
 "cells": [
  {
   "cell_type": "code",
   "execution_count": 1,
   "metadata": {
    "collapsed": true
   },
   "outputs": [],
   "source": [
    "import numpy as np\n",
    "\n",
    "#data\n",
    "D = np.asarray([[1,0],[2,0],[3,0],[5,6],[6,6],[7,6],[8,12],[9,12],[10,12],[11,18],[12,18],[13,18],[20,-5],[25,-5]])\n",
    "#D = np.asarray([[1,0],[2,0],[3,0],[5,6],[6,6],[7,6]]) #,[20,-5]"
   ]
  },
  {
   "cell_type": "code",
   "execution_count": 2,
   "metadata": {},
   "outputs": [
    {
     "data": {
      "text/plain": [
       "array([[ 2.97916667,  4.5       ],\n",
       "       [ 4.5       ,  9.        ]])"
      ]
     },
     "execution_count": 2,
     "metadata": {},
     "output_type": "execute_result"
    }
   ],
   "source": [
    "from scipy import stats\n",
    "from sklearn.cluster import MeanShift\n",
    "import collections\n",
    "import operator\n",
    "\n",
    "'''\n",
    "MeanShift based approach:\n",
    "compute for all pairs of features (n^2-n)/2 in total amount, the highest-frequent mode, using MeanShift, \n",
    "at a specific bandwidth.\n",
    "\n",
    "\n",
    "'''\n",
    "\n",
    "def comode(data,bw):\n",
    "    #prepare data first\n",
    "    \n",
    "    '''\n",
    "    get every single dimension\n",
    "    '''\n",
    "    singledimlis = list(zip(*data))\n",
    "    \n",
    "    \n",
    "    '''\n",
    "    get all pairwise dimensions\n",
    "    '''\n",
    "    paireddimlis = []\n",
    "    i = 0\n",
    "    j = 0\n",
    "    for i in range(len(singledimlis)):\n",
    "        for j in range(len(singledimlis)):\n",
    "            if i != j:\n",
    "                pairdim = (list(zip(singledimlis[i],singledimlis[j])),(i,j))\n",
    "                paireddimlis.append(pairdim)\n",
    "            j = j+1\n",
    "        i = i+1\n",
    "        \n",
    "    \n",
    "    #compute meanshift now\n",
    "    \n",
    "    topmodelis = []\n",
    "    \n",
    "    for e in paireddimlis:\n",
    "        d = e[0]\n",
    "        clustering = MeanShift(bandwidth=bw).fit(d)\n",
    "        modes = clustering.cluster_centers_\n",
    "        labels = clustering.labels_\n",
    "    \n",
    "        #count for the number of objects per mode and their corresponding labels\n",
    "        counter = collections.Counter(labels)\n",
    "        #sorts in ascending order of frequency per mode, where (key,value) = (label,frequency)\n",
    "        sortedmodes = sorted(counter.items(), key=operator.itemgetter(1))\n",
    "        #obtain mode with highest id and highest frequency \n",
    "        topmode = modes[(sortedmodes[-1])[0]]\n",
    "        topmodelis.append((topmode,e[1]))\n",
    "    \n",
    "    \n",
    "    i = 0\n",
    "    for f in singledimlis:\n",
    "        d = np.asarray(f).reshape(-1, 1)\n",
    "        clustering = MeanShift(bandwidth=bw).fit(d)\n",
    "        modes = clustering.cluster_centers_\n",
    "        labels = clustering.labels_\n",
    "    \n",
    "        #count for the number of objects per mode and their corresponding labels\n",
    "        counter = collections.Counter(labels)\n",
    "        #sorts in ascending order of frequency per mode, where (key,value) = (label,frequency)\n",
    "        sortedmodes = sorted(counter.items(), key=operator.itemgetter(1))\n",
    "        #obtain mode with highest id and highest frequency \n",
    "        topmode = modes[(sortedmodes[-1])[0]]\n",
    "        bimode = np.append(topmode,topmode)\n",
    "        topmodelis.append((bimode,(i,i)))\n",
    "        i = i+1\n",
    "    \n",
    "    #for g in topmodelis:\n",
    "    #    print(g)\n",
    "        \n",
    "    # now remove from each single dimension their respective top-mode value and multiply both with each other\n",
    "    # take the array of values of dimension Xi and substract the corresponding mode from the mode vector; \n",
    "    # multiply it with (Xj - corresponding mode from mode vector)\n",
    "    \n",
    "    comodemx = np.zeros(shape=(len(data[0]),len(data[0])))\n",
    "    \n",
    "    for e in paireddimlis:\n",
    "        for f in topmodelis:\n",
    "            if e[1] == f[1]:\n",
    "                X,Y = zip(*e[0])\n",
    "                Xmode, Ymode = f[0]\n",
    "                comodeprod = (np.asarray(X)-Xmode) * (np.asarray(Y)-Ymode)\n",
    "                \n",
    "                d = np.asarray(comodeprod).reshape(-1, 1)\n",
    "                clustering = MeanShift(bandwidth=bw).fit(d)\n",
    "                modes = clustering.cluster_centers_\n",
    "                labels = clustering.labels_\n",
    "    \n",
    "                #count for the number of objects per mode and their corresponding labels\n",
    "                counter = collections.Counter(labels)\n",
    "                #sorts in ascending order of frequency per mode, where (key,value) = (label,frequency)\n",
    "                sortedmodes = sorted(counter.items(), key=operator.itemgetter(1))\n",
    "                #obtain mode with highest id and highest frequency \n",
    "                topmode = modes[(sortedmodes[-1])[0]]\n",
    "                i,j = f[1]\n",
    "                comodemx[i][j] = topmode[0]\n",
    "    \n",
    "    \n",
    "    idx = 0\n",
    "    for e in singledimlis:\n",
    "        for f in topmodelis:\n",
    "            if (idx,idx) == f[1]:\n",
    "                X = e\n",
    "                Xmode, Xmode = f[0]\n",
    "                comodeprod = (np.asarray(X)-Xmode) * (np.asarray(X)-Xmode)\n",
    "                \n",
    "                d = np.asarray(comodeprod).reshape(-1, 1)\n",
    "                clustering = MeanShift(bandwidth=bw).fit(d)\n",
    "                modes = clustering.cluster_centers_\n",
    "                labels = clustering.labels_\n",
    "    \n",
    "                #count for the number of objects per mode and their corresponding labels\n",
    "                counter = collections.Counter(labels)\n",
    "                #sorts in ascending order of frequency per mode, where (key,value) = (label,frequency)\n",
    "                sortedmodes = sorted(counter.items(), key=operator.itemgetter(1))\n",
    "                #obtain mode with highest id and highest frequency \n",
    "                topmode = modes[(sortedmodes[-1])[0]]\n",
    "                i,j = f[1]\n",
    "                comodemx[i][j] = topmode[0]\n",
    "                \n",
    "        idx = idx+1\n",
    "    \n",
    "    return comodemx\n",
    "                \n",
    "\n",
    "\n",
    "comode(D,6.5)"
   ]
  },
  {
   "cell_type": "code",
   "execution_count": 3,
   "metadata": {
    "collapsed": true
   },
   "outputs": [],
   "source": [
    "'''\n",
    "transforming data:\n",
    "Y = D * U \n",
    "where D is the data matrix, \n",
    "and U is the eigenvector matrix with the top k-PC\n",
    "Y is the lower-dimensional projection\n",
    "'''\n",
    "def projectbyeigvec(data, eigvecmx, numpc):\n",
    "    Y = np.dot(data,(eigvecmx[:numpc]).T)\n",
    "    return Y\n",
    "\n"
   ]
  },
  {
   "cell_type": "code",
   "execution_count": 4,
   "metadata": {
    "collapsed": true
   },
   "outputs": [],
   "source": [
    "'''\n",
    "reconstruction Z\n",
    "= Y * U.T\n",
    "'''\n",
    "def reconstruct(dataproj, eigvecmx, numpc):\n",
    "    Z = np.dot(dataproj,(eigvecmx[:numpc]))\n",
    "    return Z\n",
    "    \n"
   ]
  },
  {
   "cell_type": "code",
   "execution_count": 9,
   "metadata": {},
   "outputs": [
    {
     "name": "stdout",
     "output_type": "stream",
     "text": [
      "[ 0.66666667  0.        ]\n",
      "[ 43.69016735  68.57356891]\n"
     ]
    }
   ],
   "source": [
    "'''\n",
    "Com Setting\n",
    "'''\n",
    "\n",
    "#CM = comedian(D)\n",
    "CM = comode(D,2.0)\n",
    "\n",
    "\n",
    "#compute eigenvalues and eigenvectors\n",
    "w, v = np.linalg.eig(CM)\n",
    "\n",
    "print(w)\n",
    "\n",
    "Yp = projectbyeigvec(D,v,1)\n",
    "Zmed = reconstruct(Yp, v, 1)\n",
    "\n",
    "\n",
    "'''\n",
    "Cov Setting\n",
    "'''\n",
    "\n",
    "mu = np.asarray([np.sum(D[:, :-1])/len(D[:, :-1]), \n",
    "                 np.sum(D[:, -1])/len(D[:, -1])])\n",
    "\n",
    "#centered data\n",
    "Xmu = D-mu\n",
    "\n",
    "#alternatively:\n",
    "Ca = np.cov(Xmu.T)\n",
    "\n",
    "#compute eigenvalues and eigenvectors\n",
    "w1, v1 = np.linalg.eig(Ca)\n",
    "print(w1)\n",
    "\n",
    "Ypca = projectbyeigvec(D,v1,1)\n",
    "Zmean = reconstruct(Ypca, v1, 1)"
   ]
  },
  {
   "cell_type": "code",
   "execution_count": 10,
   "metadata": {},
   "outputs": [
    {
     "name": "stdout",
     "output_type": "stream",
     "text": [
      "Reconstruction Loss using Cov:  69.2663234099\n",
      "Reconstruction Loss using Com:  55.7857142857\n"
     ]
    }
   ],
   "source": [
    "lossmean = ((D - Zmean) ** 2).mean()\n",
    "print('Reconstruction Loss using Cov: ',lossmean)\n",
    "lossmed = ((D - Zmed) ** 2).mean()\n",
    "print('Reconstruction Loss using Com: ',lossmed)"
   ]
  },
  {
   "cell_type": "code",
   "execution_count": 11,
   "metadata": {},
   "outputs": [
    {
     "data": {
      "image/png": "[encoded data removed]",
      "text/plain": [
       "<matplotlib.figure.Figure at 0x1a15080470>"
      ]
     },
     "metadata": {},
     "output_type": "display_data"
    },
    {
     "data": {
      "image/png": "[encoded data removed]",
      "text/plain": [
       "<matplotlib.figure.Figure at 0x1a1515ada0>"
      ]
     },
     "metadata": {},
     "output_type": "display_data"
    }
   ],
   "source": [
    "'''\n",
    "Plotting PC on 2D data sets\n",
    "'''\n",
    "import matplotlib.pyplot as plt\n",
    "\n",
    "def plotdatanpc(data, projecteddata, eigenvectors):\n",
    "    mum = np.asarray([np.sum(D[:, :-1])/len(D[:, :-1]), \n",
    "                 np.sum(D[:, -1])/len(D[:, -1])])\n",
    "    sigma = projecteddata.std(axis=0).mean()\n",
    "    \n",
    "    fig, ax = plt.subplots()\n",
    "    x,y = zip(*data)\n",
    "    ax.scatter(x, y)\n",
    "\n",
    "    sigma = projecteddata.std(axis=0).mean()\n",
    "    origin = data.mean(axis=0)\n",
    "\n",
    "    plt.quiver(*origin, (eigenvectors[:,0]), (eigenvectors[:,1]), color=['r','c'], scale=10)\n",
    "    #ax.set_aspect('equal')\n",
    "    ax.set_ylim([-10,30])\n",
    "    ax.set_xlim([-5,30])\n",
    "    ax.set_xlabel('x')\n",
    "    ax.set_ylabel('y')\n",
    "    plt.show()\n",
    "    \n",
    "plotdatanpc(D,Ypca,v1)\n",
    "plotdatanpc(D,Yp,v)"
   ]
  },
  {
   "cell_type": "code",
   "execution_count": 12,
   "metadata": {},
   "outputs": [
    {
     "name": "stdout",
     "output_type": "stream",
     "text": [
      "--------------------------------\n"
     ]
    },
    {
     "data": {
      "text/plain": [
       "'\\nDdigits = load_digits().data\\n\\nZdigcov = covPCA(Ddigits,63)\\nZdigcom = comPCA(Ddigits,63)\\ncompareLosses(Ddigits,Zdigcov,Zdigcom)\\n'"
      ]
     },
     "execution_count": 12,
     "metadata": {},
     "output_type": "execute_result"
    }
   ],
   "source": [
    "'''\n",
    "now some experiment on real-world data\n",
    "from sklearn:\n",
    "- iris\n",
    "- wine\n",
    "- digits\n",
    "'''\n",
    "\n",
    "from sklearn.datasets import load_iris, load_breast_cancer, load_digits\n",
    "\n",
    "\n",
    "\n",
    "def covPCA(data,numpc):\n",
    "    mu = np.mean(data, axis=0)\n",
    "\n",
    "    #centered data\n",
    "    Xmu = data-mu\n",
    "\n",
    "    #alternatively:\n",
    "    Ca = np.cov(Xmu.T)\n",
    "\n",
    "    #compute eigenvalues and eigenvectors\n",
    "    w1, v1 = np.linalg.eig(Ca)\n",
    "\n",
    "    Ypca = projectbyeigvec(data,v1, numpc)\n",
    "    Zmean = reconstruct(Ypca, v1, numpc)\n",
    "    \n",
    "    return Zmean\n",
    "\n",
    "\n",
    "def comPCA(data,bw,numpc):\n",
    "    CM = comode(data,bw)\n",
    "\n",
    "    #compute eigenvalues and eigenvectors\n",
    "    w, v = np.linalg.eig(CM)\n",
    "\n",
    "    Yp = projectbyeigvec(data,v, numpc)\n",
    "    Zmed = reconstruct(Yp, v, numpc)\n",
    "    \n",
    "    return Zmed\n",
    "    \n",
    "\n",
    "    \n",
    "def compareLosses(Data,Zcov,Zcom):\n",
    "    lossmean = ((Data - Zcov) ** 2).mean()\n",
    "    #print('Reconstruction Loss using Cov: ',lossmean)\n",
    "    lossmed = ((Data - Zcom) ** 2).mean()\n",
    "    #print('Reconstruction Loss using Com: ',lossmed)\n",
    "    return(lossmean,lossmed)\n",
    "    \n",
    "\n",
    "    \n",
    "Diris = load_iris().data\n",
    "#print(Diris)\n",
    "\n",
    "'''\n",
    "Ziriscov = covPCA(d1,2)\n",
    "Ziriscom = comPCA(d1,2)\n",
    "compareLosses(d1,Ziriscov,Ziriscom)\n",
    "'''\n",
    "\n",
    "print('--------------------------------')\n",
    "\n",
    "'''\n",
    "Ddigits = load_digits().data\n",
    "\n",
    "Zdigcov = covPCA(Ddigits,63)\n",
    "Zdigcom = comPCA(Ddigits,63)\n",
    "compareLosses(Ddigits,Zdigcov,Zdigcom)\n",
    "'''\n"
   ]
  },
  {
   "cell_type": "code",
   "execution_count": 13,
   "metadata": {},
   "outputs": [
    {
     "name": "stdout",
     "output_type": "stream",
     "text": [
      "------\n"
     ]
    },
    {
     "data": {
      "text/plain": [
       "'\\npenlosslis = []\\n\\nfor j in range(0,64):\\n    Zdigcov = covPCA(Ddigits,j)\\n    Zdigcom = comPCA(Ddigits,j)\\n    compres = compareLosses(Ddigits,Zdigcov,Zdigcom)\\n    penlosslis.append(compres)\\n'"
      ]
     },
     "execution_count": 13,
     "metadata": {},
     "output_type": "execute_result"
    }
   ],
   "source": [
    "'''\n",
    "track the loss for PCA with cov and PCA with com\n",
    "using different number of PC\n",
    "'''\n",
    "\n",
    "\n",
    "irislosslis = []\n",
    "irislosslis1 = []\n",
    "irislosslis2 = []\n",
    "\n",
    "#0.1 a good bw\n",
    "#4.0 a bad bw\n",
    "#8.0 converges to covariance values --> since all objects collapse to a single mode\n",
    "#future work: dimension specific bw., using second, third etc. largest mode in multimodal setting; \n",
    "#how to find and choose a good bw?\n",
    "\n",
    "for i in range(0,4):\n",
    "    Ziriscov = covPCA(Diris,i)\n",
    "    Ziriscom = comPCA(Diris,0.1,i)\n",
    "    Ziriscom1 = comPCA(Diris,4.0,i)\n",
    "    Ziriscom2 = comPCA(Diris,5.5,i)\n",
    "    compres = compareLosses(Diris,Ziriscov,Ziriscom)\n",
    "    compres1 = compareLosses(Diris,Ziriscov,Ziriscom1)\n",
    "    compres2 = compareLosses(Diris,Ziriscov,Ziriscom2)\n",
    "    irislosslis.append(compres)\n",
    "    irislosslis1.append(compres1)\n",
    "    irislosslis2.append(compres2)\n",
    "\n",
    "print('------')\n",
    "\n",
    "\n",
    "\n",
    "'''\n",
    "penlosslis = []\n",
    "\n",
    "for j in range(0,64):\n",
    "    Zdigcov = covPCA(Ddigits,j)\n",
    "    Zdigcom = comPCA(Ddigits,j)\n",
    "    compres = compareLosses(Ddigits,Zdigcov,Zdigcom)\n",
    "    penlosslis.append(compres)\n",
    "'''"
   ]
  },
  {
   "cell_type": "code",
   "execution_count": 14,
   "metadata": {},
   "outputs": [
    {
     "data": {
      "image/png": "[encoded data removed]",
      "text/plain": [
       "<matplotlib.figure.Figure at 0x1a15053da0>"
      ]
     },
     "metadata": {},
     "output_type": "display_data"
    }
   ],
   "source": [
    "pcirisrange = [i for i in range(0,4)]\n",
    "coviloss, comiloss = zip(*irislosslis)\n",
    "coviloss1, comiloss1 = zip(*irislosslis1)\n",
    "coviloss2, comiloss2 = zip(*irislosslis2)\n",
    "plt.plot(pcirisrange,coviloss,'-o')\n",
    "plt.plot(pcirisrange,comiloss,'-x')\n",
    "plt.plot(pcirisrange,comiloss1,'-v')\n",
    "plt.plot(pcirisrange,comiloss2,'-3')\n",
    "plt.xlabel('Number of Principal Components')\n",
    "plt.ylabel('Mean Squared Error')\n",
    "plt.show()"
   ]
  },
  {
   "cell_type": "code",
   "execution_count": null,
   "metadata": {},
   "outputs": [],
   "source": [
    "\n",
    "pcrange = [i for i in range(0,64)]\n",
    "covloss, comloss = zip(*penlosslis)\n",
    "plt.plot(pcrange,covloss,'-o')\n",
    "plt.plot(pcrange,comloss,'-x')\n",
    "plt.xlabel('Number of Principal Components')\n",
    "plt.ylabel('Mean Squared Error')\n",
    "plt.show()"
   ]
  }
 ],
 "metadata": {
  "kernelspec": {
   "display_name": "Python 3",
   "language": "python",
   "name": "python3"
  },
  "language_info": {
   "codemirror_mode": {
    "name": "ipython",
    "version": 3
   },
   "file_extension": ".py",
   "mimetype": "text/x-python",
   "name": "python",
   "nbconvert_exporter": "python",
   "pygments_lexer": "ipython3",
   "version": "3.6.8"
  }
 },
 "nbformat": 4,
 "nbformat_minor": 2
}
